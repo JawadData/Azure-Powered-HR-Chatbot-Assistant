{
 "cells": [
  {
   "cell_type": "markdown",
   "metadata": {
    "application/vnd.databricks.v1+cell": {
     "cellMetadata": {},
     "inputWidgets": {},
     "nuid": "d58dc212-f49d-4224-b788-56775d965fdd",
     "showTitle": false,
     "tableResultSettingsMap": {},
     "title": ""
    }
   },
   "source": [
    "> # Candidate Scoring with LLAMA  \n",
    "***  \n",
    "In this section, we utilize the information extracted from the PDFs and stored in a JSON file to generate a score for each candidate. The scoring is based on specific features and the job offer they are applying for, allowing us to rank the candidates accordingly.  \n",
    "\n",
    "`pip install groq python-dotenv`\n",
    "\n",
    "\n"
   ]
  },
  {
   "cell_type": "code",
   "execution_count": 0,
   "metadata": {
    "application/vnd.databricks.v1+cell": {
     "cellMetadata": {
      "byteLimit": 2048000,
      "rowLimit": 10000
     },
     "inputWidgets": {},
     "nuid": "c3e95a30-858d-4455-a282-89e8f8d8acdf",
     "showTitle": false,
     "tableResultSettingsMap": {},
     "title": ""
    }
   },
   "outputs": [
    {
     "name": "stdout",
     "output_type": "stream",
     "text": [
      "Python interpreter will be restarted.\n",
      "Requirement already satisfied: groq in /local_disk0/.ephemeral_nfs/envs/pythonEnv-9ebef7c3-20e3-4951-9450-44e8e4ed746d/lib/python3.9/site-packages (0.12.0)\n",
      "Requirement already satisfied: typing-extensions<5,>=4.7 in /local_disk0/.ephemeral_nfs/envs/pythonEnv-9ebef7c3-20e3-4951-9450-44e8e4ed746d/lib/python3.9/site-packages (from groq) (4.12.2)\n",
      "Requirement already satisfied: httpx<1,>=0.23.0 in /local_disk0/.ephemeral_nfs/envs/pythonEnv-9ebef7c3-20e3-4951-9450-44e8e4ed746d/lib/python3.9/site-packages (from groq) (0.27.2)\n",
      "Requirement already satisfied: distro<2,>=1.7.0 in /local_disk0/.ephemeral_nfs/envs/pythonEnv-9ebef7c3-20e3-4951-9450-44e8e4ed746d/lib/python3.9/site-packages (from groq) (1.9.0)\n",
      "Requirement already satisfied: sniffio in /local_disk0/.ephemeral_nfs/envs/pythonEnv-9ebef7c3-20e3-4951-9450-44e8e4ed746d/lib/python3.9/site-packages (from groq) (1.3.1)\n",
      "Requirement already satisfied: pydantic<3,>=1.9.0 in /local_disk0/.ephemeral_nfs/envs/pythonEnv-9ebef7c3-20e3-4951-9450-44e8e4ed746d/lib/python3.9/site-packages (from groq) (2.10.2)\n",
      "Requirement already satisfied: anyio<5,>=3.5.0 in /local_disk0/.ephemeral_nfs/envs/pythonEnv-9ebef7c3-20e3-4951-9450-44e8e4ed746d/lib/python3.9/site-packages (from groq) (4.6.2.post1)\n",
      "Requirement already satisfied: idna>=2.8 in /databricks/python3/lib/python3.9/site-packages (from anyio<5,>=3.5.0->groq) (3.3)\n",
      "Requirement already satisfied: exceptiongroup>=1.0.2 in /local_disk0/.ephemeral_nfs/envs/pythonEnv-9ebef7c3-20e3-4951-9450-44e8e4ed746d/lib/python3.9/site-packages (from anyio<5,>=3.5.0->groq) (1.2.2)\n",
      "Requirement already satisfied: httpcore==1.* in /local_disk0/.ephemeral_nfs/envs/pythonEnv-9ebef7c3-20e3-4951-9450-44e8e4ed746d/lib/python3.9/site-packages (from httpx<1,>=0.23.0->groq) (1.0.7)\n",
      "Requirement already satisfied: certifi in /databricks/python3/lib/python3.9/site-packages (from httpx<1,>=0.23.0->groq) (2021.10.8)\n",
      "Requirement already satisfied: h11<0.15,>=0.13 in /local_disk0/.ephemeral_nfs/envs/pythonEnv-9ebef7c3-20e3-4951-9450-44e8e4ed746d/lib/python3.9/site-packages (from httpcore==1.*->httpx<1,>=0.23.0->groq) (0.14.0)\n",
      "Requirement already satisfied: annotated-types>=0.6.0 in /local_disk0/.ephemeral_nfs/envs/pythonEnv-9ebef7c3-20e3-4951-9450-44e8e4ed746d/lib/python3.9/site-packages (from pydantic<3,>=1.9.0->groq) (0.7.0)\n",
      "Requirement already satisfied: pydantic-core==2.27.1 in /local_disk0/.ephemeral_nfs/envs/pythonEnv-9ebef7c3-20e3-4951-9450-44e8e4ed746d/lib/python3.9/site-packages (from pydantic<3,>=1.9.0->groq) (2.27.1)\n",
      "Python interpreter will be restarted.\n",
      "Python interpreter will be restarted.\n",
      "Requirement already satisfied: python-dotenv in /local_disk0/.ephemeral_nfs/envs/pythonEnv-9ebef7c3-20e3-4951-9450-44e8e4ed746d/lib/python3.9/site-packages (1.0.1)\n",
      "Python interpreter will be restarted.\n"
     ]
    }
   ],
   "source": [
    "%pip install groq\n",
    "# Autres Bibliothèques\n",
    "%pip install python-dotenv"
   ]
  },
  {
   "cell_type": "markdown",
   "metadata": {
    "application/vnd.databricks.v1+cell": {
     "cellMetadata": {},
     "inputWidgets": {},
     "nuid": "afe96233-694c-4751-8d5a-07622d143998",
     "showTitle": false,
     "tableResultSettingsMap": {},
     "title": ""
    }
   },
   "source": [
    "**01.Importing the necessary libraries**\n"
   ]
  },
  {
   "cell_type": "code",
   "execution_count": 0,
   "metadata": {
    "application/vnd.databricks.v1+cell": {
     "cellMetadata": {
      "byteLimit": 2048000,
      "rowLimit": 10000
     },
     "inputWidgets": {},
     "nuid": "2ebac335-90b9-4f09-88aa-063b1b4ae12e",
     "showTitle": false,
     "tableResultSettingsMap": {},
     "title": ""
    }
   },
   "outputs": [],
   "source": [
    "import csv\n",
    "import re\n",
    "import os\n",
    "from groq import Groq\n",
    "import json\n",
    "from pprint import pprint\n",
    "from dotenv import load_dotenv\n",
    "import io\n",
    "\n"
   ]
  },
  {
   "cell_type": "markdown",
   "metadata": {
    "application/vnd.databricks.v1+cell": {
     "cellMetadata": {},
     "inputWidgets": {},
     "nuid": "6e3a100d-3f05-48bd-8ba6-9b4032a4f8fc",
     "showTitle": false,
     "tableResultSettingsMap": {},
     "title": ""
    }
   },
   "source": [
    "**02. Load the JSON file that has already been created**"
   ]
  },
  {
   "cell_type": "code",
   "execution_count": 0,
   "metadata": {
    "application/vnd.databricks.v1+cell": {
     "cellMetadata": {
      "byteLimit": 2048000,
      "rowLimit": 10000
     },
     "inputWidgets": {},
     "nuid": "5c3282c3-6d64-4158-bbf6-7acfffaf4515",
     "showTitle": false,
     "tableResultSettingsMap": {},
     "title": ""
    }
   },
   "outputs": [
    {
     "name": "stdout",
     "output_type": "stream",
     "text": [
      "[{'address': 'O 123 Anywhere St., Any City',\n",
      "  'certifications': None,\n",
      "  'education': [{'duration': '2010 - 2014',\n",
      "                 'school': 'BORCELLE SCHOOL Really Great High School'},\n",
      "                {'duration': '2014 - 2016',\n",
      "                 'school': 'LICERIA OF TECHNOLOGY Really Great University'}],\n",
      "  'email': 'hello@reallygreatsite.com',\n",
      "  'experience': [{'company': 'Really Great Company',\n",
      "                  'duration': '2016 - Present',\n",
      "                  'position': 'CREATIVE DIRECTOR',\n",
      "                  'responsibilities': ['Expert at maintaining relations with '\n",
      "                                       'corporate clients',\n",
      "                                       'Responsible for key accounts worth',\n",
      "                                       'Managed multi-platform regional and '\n",
      "                                       'national campaigns']},\n",
      "                 {'company': 'Really Great Company',\n",
      "                  'duration': '2014 - 2016',\n",
      "                  'position': 'CREATIVE DIRECTOR',\n",
      "                  'responsibilities': ['Expert at maintaining relations with '\n",
      "                                       'corporate clients',\n",
      "                                       'Responsible for key accounts worth',\n",
      "                                       'Managed multi-platform regional and '\n",
      "                                       'national campaigns']},\n",
      "                 {'company': 'Really Great Company',\n",
      "                  'duration': '2010 - 2014',\n",
      "                  'position': 'ASSISTANT CREATIVE DIRECTOR',\n",
      "                  'responsibilities': ['Expert at maintaining relations with '\n",
      "                                       'corporate clients',\n",
      "                                       'Together with the creative director, '\n",
      "                                       'manage a team of design and marketing '\n",
      "                                       'professionals',\n",
      "                                       'Managed multi-platform regional and '\n",
      "                                       'national campaigns']}],\n",
      "  'languages': None,\n",
      "  'linkedin': None,\n",
      "  'name': 'CONNOR HAMILTON',\n",
      "  'phone': '+123-456-7890',\n",
      "  'position': 'CREATIVE DIRECTOR',\n",
      "  'projects': None,\n",
      "  'skills': {'professional': ['Art Directors',\n",
      "                              'Client Relationship Management',\n",
      "                              'Delegation',\n",
      "                              'Creativity',\n",
      "                              'Time Management',\n",
      "                              'Interpersonal Skills',\n",
      "                              'Effective Communication']},\n",
      "  'summary': 'An inventive creative director with over 7 years of experience '\n",
      "             'building a new team of designers, copywriters and online '\n",
      "             'marketing talent and growing a team with over $15 million in '\n",
      "             'lead accounts, and $5 million+ annually. Passionate to apply '\n",
      "             'proven experience in Arowwai Industries.'},\n",
      " {'address': 'Oshkosh, WI',\n",
      "  'certifications': ['Cisco Certified Network Associate (CCNA)',\n",
      "                     'CompTIA A+ Technician',\n",
      "                     'Microsoft Certified Solutions Expert (MCSE)',\n",
      "                     'Project Management Professional (PMP)',\n",
      "                     'Certified Cloud Technology Professional (CCTP)',\n",
      "                     'Security+ Certification: Information Technology'],\n",
      "  'education': {'degree': 'Bachelor of Science in Information Technology',\n",
      "                'institution': 'Madison Area Technical College'},\n",
      "  'email': 'kayden@novoresume.com',\n",
      "  'experience': [{'company': 'NextGen Information Systems Solutions',\n",
      "                  'duration': '08/2018 - Present',\n",
      "                  'location': 'Milwaukee, WI',\n",
      "                  'position': 'IT Supervisor',\n",
      "                  'responsibilities': ['Supervise and lead a team of more than '\n",
      "                                       '30 IT specialists',\n",
      "                                       'Research, identify and appraise '\n",
      "                                       'emerging technologies, hardware, and '\n",
      "                                       'software',\n",
      "                                       'Contribute to the successful delivery '\n",
      "                                       'of large-scale company projects',\n",
      "                                       'Manage the annual budget for IT '\n",
      "                                       'projects']},\n",
      "                 {'company': 'INITAR Inc.',\n",
      "                  'duration': '02/2013 - 06/2018',\n",
      "                  'location': 'Madison, WI',\n",
      "                  'position': 'IT Specialist',\n",
      "                  'responsibilities': ['Oversaw more than 200 computers of the '\n",
      "                                       'company',\n",
      "                                       'Developed and implemented innovated '\n",
      "                                       'connectivity network configurations',\n",
      "                                       'Spearheaded the installation of over '\n",
      "                                       '100 desktop computers during the '\n",
      "                                       'company-wide upgrade',\n",
      "                                       'Monitored and evaluated the IT '\n",
      "                                       'systems']},\n",
      "                 {'company': 'InTouch Technologies',\n",
      "                  'duration': '02/2009 - 01/2013',\n",
      "                  'location': None,\n",
      "                  'position': 'IT Support Specialist',\n",
      "                  'responsibilities': []}],\n",
      "  'languages': {'English': 'Native or Bilingual Proficiency',\n",
      "                'Japanese': 'Limited Working Proficiency',\n",
      "                'Korean': 'Full Professional Proficiency'},\n",
      "  'linkedin': None,\n",
      "  'name': 'Kayden Zhao',\n",
      "  'phone': '333 454 454',\n",
      "  'position': 'IT Supervisor',\n",
      "  'projects': [],\n",
      "  'skills': ['IT Security',\n",
      "             'Complex Problem Solving',\n",
      "             'Project Management',\n",
      "             'Effective Employee Training',\n",
      "             'Logic & Reasoning',\n",
      "             'Hardware & Software Support',\n",
      "             'Team Collaboration & Leadership',\n",
      "             'System Installation & Maintenance',\n",
      "             'Microsoft Deployment Toolkit (MDT)'],\n",
      "  'summary': 'Logical, solution-focused IT professional with 12+ years of '\n",
      "             'remarkable experience in providing comprehensive technical '\n",
      "             'support to clients and companies.'},\n",
      " {'address': 'New York City, New York',\n",
      "  'certifications': [{'name': 'Advanced Python for Data Science',\n",
      "                      'provider': 'Coursera'},\n",
      "                     {'name': 'Network Security Fundamentals',\n",
      "                      'provider': 'Udemy'}],\n",
      "  'education': {'date': '2019-2023',\n",
      "                'degree': 'Bachelor of Science in Information Technology',\n",
      "                'university': 'New York University'},\n",
      "  'email': 'help@enhancv.com',\n",
      "  'experience': [{'achievements': ['Developed a Python script to automate data '\n",
      "                                   'entry tasks, reducing manual work by 40% '\n",
      "                                   'and enhancing data accuracy.',\n",
      "                                   'Collaborated in a team of 5 to design a '\n",
      "                                   'user-friendly internal website, improving '\n",
      "                                   'employee engagement by 25%',\n",
      "                                   'Conducted thorough testing of new software '\n",
      "                                   'releases, identifying and documenting over '\n",
      "                                   '50 bugs for resolution.',\n",
      "                                   'Initiated a project to optimize network '\n",
      "                                   'security measures, which was later '\n",
      "                                   'implemented company-wide.'],\n",
      "                  'company': 'Google',\n",
      "                  'date': '2023-2023',\n",
      "                  'position': 'IT Intern'},\n",
      "                 {'achievements': ['Analyzed large datasets using SQL and '\n",
      "                                   'Excel, providing insights that led to a '\n",
      "                                   '15% reduction in operational costs.',\n",
      "                                   'Created detailed reports on market trends, '\n",
      "                                   'which were used to inform strategic '\n",
      "                                   'decisions by senior management.',\n",
      "                                   'Participated in a cross-functional team to '\n",
      "                                   'develop a new data visualization tool, '\n",
      "                                   'resulting in improved client '\n",
      "                                   'presentations.',\n",
      "                                   'Assisted in the implementation of a new '\n",
      "                                   'CRM system, training 20+ employees and '\n",
      "                                   'ensuring a smooth transition.'],\n",
      "                  'company': 'IBM',\n",
      "                  'date': '2023-2023',\n",
      "                  'position': 'Data Analysis Intern'}],\n",
      "  'languages': {'English': 'Native', 'Spanish': 'Advanced'},\n",
      "  'linkedin': 'linkedin.com',\n",
      "  'name': 'Olivia Davis',\n",
      "  'phone': None,\n",
      "  'position': 'Management Trainee | IT Enthusiast | Data Analysis',\n",
      "  'projects': None,\n",
      "  'skills': ['Python',\n",
      "             'SQL',\n",
      "             'Excel',\n",
      "             'Data Analysis',\n",
      "             'Network Security',\n",
      "             'CRM Systems',\n",
      "             'Project Management',\n",
      "             'Software Testing',\n",
      "             'Web Design'],\n",
      "  'summary': 'As a recent graduate with a strong foundation in IT and data '\n",
      "             'analysis, I am eager to apply my skills in a dynamic '\n",
      "             'environment. My internships at Google and IBM have equipped me '\n",
      "             'with practical experience in software development, data '\n",
      "             'analysis, and network security. I am particularly interested in '\n",
      "             'leveraging technology to drive business growth and efficiency. '\n",
      "             'My goal is to contribute meaningfully to projects that harness '\n",
      "             'the power of IT for innovative solutions.'}]\n"
     ]
    }
   ],
   "source": [
    "file_path = '/dbfs/mnt/result/resume.json'\n",
    "with open(file_path, 'r') as file:\n",
    "    data = json.load(file)  \n",
    "pprint(data[1:4])"
   ]
  },
  {
   "cell_type": "markdown",
   "metadata": {
    "application/vnd.databricks.v1+cell": {
     "cellMetadata": {},
     "inputWidgets": {},
     "nuid": "d12386af-1518-4108-820f-72b66f5881bd",
     "showTitle": false,
     "tableResultSettingsMap": {},
     "title": ""
    }
   },
   "source": [
    "**03. Function to generate the dedicated score for each candidate, structure the results into a CSV file, and store it in Azure Data Lake Gen2**  \n"
   ]
  },
  {
   "cell_type": "code",
   "execution_count": 0,
   "metadata": {
    "application/vnd.databricks.v1+cell": {
     "cellMetadata": {
      "byteLimit": 2048000,
      "rowLimit": 10000
     },
     "inputWidgets": {},
     "nuid": "136fcbc9-4390-4c7c-8403-1eb37f3f4769",
     "showTitle": false,
     "tableResultSettingsMap": {},
     "title": ""
    }
   },
   "outputs": [],
   "source": [
    "def extract_score(full_output):\n",
    "    \"\"\"\n",
    "    Extrait le score de compatibilité d'une chaîne de texte.\n",
    "    \"\"\"\n",
    "    match = re.search(r\"\\b\\d+(\\.\\d+)?\\b\", full_output)\n",
    "    if match:\n",
    "        return float(match.group(0))\n",
    "    else:\n",
    "        print(\"Score non trouvé dans la réponse.\")\n",
    "        return None\n"
   ]
  },
  {
   "cell_type": "code",
   "execution_count": 0,
   "metadata": {
    "application/vnd.databricks.v1+cell": {
     "cellMetadata": {
      "byteLimit": 2048000,
      "rowLimit": 10000
     },
     "inputWidgets": {},
     "nuid": "972ee173-3a90-4328-96c1-89a4a7fc237c",
     "showTitle": false,
     "tableResultSettingsMap": {},
     "title": ""
    }
   },
   "outputs": [],
   "source": [
    "def result_with_llama(api_k, offre, candidat):\n",
    "    \"\"\"\n",
    "    Fonction pour obtenir un score de compatibilité entre une offre et un candidat via l'API Groq (Llama).\n",
    "    \n",
    "    Paramètres\n",
    "    ----------\n",
    "    api_k : str\n",
    "        La clé API pour l'authentification avec l'API Llama.\n",
    "    offre : dict\n",
    "        Les informations de l'offre d'emploi.\n",
    "    candidat : dict\n",
    "        Les informations du candidat.\n",
    "    \n",
    "    Retourne\n",
    "    -------\n",
    "    float\n",
    "        Le score de compatibilité entre l'offre et le candidat.\n",
    "    \"\"\"\n",
    "    client = Groq(api_key=api_k)\n",
    "\n",
    "    prompt = f\"\"\"\n",
    "    Tu es un expert en ressources humaines. J'ai une offre d'emploi et un profil de candidat. \n",
    "    Tu dois évaluer le score de compatibilité entre le candidat et l'offre en te basant sur les critères suivants :\n",
    "\n",
    "    - Compétences : Compare les compétences du candidat avec celles requises par l'offre. Donne plus de poids aux compétences essentielles.\n",
    "    - Expérience : Vérifie si le candidat a l'expérience minimale requise pour le poste.\n",
    "    - Certifications : Assure-toi que les certifications du candidat correspondent à celles demandées dans l'offre.\n",
    "    - Localisation : Évalue si la localisation du candidat est compatible avec le lieu de travail indiqué.\n",
    "    - Langues : Vérifie si le candidat parle les langues requises dans l'offre.\n",
    "\n",
    "    Utilise un score de 0 à 10, où 0 signifie que le candidat n'est pas du tout compatible et 10 signifie qu'il est parfaitement compatible avec l'offre. \n",
    "    Ne donne pas d'explication, seulement un score.\n",
    "\n",
    "    Offre d'emploi : \n",
    "    {json.dumps(offre, ensure_ascii=False, indent=2)}\n",
    "\n",
    "    Profil du candidat :\n",
    "    {json.dumps(candidat, ensure_ascii=False, indent=2)}\n",
    "    \"\"\"\n",
    "    completion = client.chat.completions.create(\n",
    "        model=\"llama3-70b-8192\",\n",
    "        messages=[\n",
    "            {\n",
    "                \"role\": \"user\",\n",
    "                \"content\": prompt\n",
    "            },\n",
    "            {\n",
    "                \"role\": \"assistant\",\n",
    "                \"content\": \"\"\n",
    "            }\n",
    "        ],\n",
    "        temperature=1,\n",
    "        max_tokens=1024,\n",
    "        top_p=1,\n",
    "        stream=True,\n",
    "        stop=None,\n",
    "    )\n",
    "  \n",
    "    full_output = \"\"\n",
    "    for chunk in completion:\n",
    "        output = chunk.choices[0].delta.content or \"\"\n",
    "        full_output += output\n",
    "\n",
    "    print(\"Réponse complète de Llama:\")\n",
    "    score = extract_score(full_output)\n",
    "\n",
    "    return score\n"
   ]
  },
  {
   "cell_type": "code",
   "execution_count": 0,
   "metadata": {
    "application/vnd.databricks.v1+cell": {
     "cellMetadata": {
      "byteLimit": 2048000,
      "rowLimit": 10000
     },
     "inputWidgets": {},
     "nuid": "10f805b9-8398-4cfb-b17b-69e27f49fb0a",
     "showTitle": false,
     "tableResultSettingsMap": {},
     "title": ""
    }
   },
   "outputs": [],
   "source": [
    "load_dotenv()\n",
    "api_key_llama = os.getenv(\"API_KEY_LLAMA\")"
   ]
  },
  {
   "cell_type": "code",
   "execution_count": 0,
   "metadata": {
    "application/vnd.databricks.v1+cell": {
     "cellMetadata": {
      "byteLimit": 2048000,
      "rowLimit": 10000
     },
     "inputWidgets": {},
     "nuid": "8d37c331-87c6-42e5-aa2a-b4aabf5806ab",
     "showTitle": false,
     "tableResultSettingsMap": {},
     "title": ""
    }
   },
   "outputs": [
    {
     "name": "stdout",
     "output_type": "stream",
     "text": [
      "Réponse complète de Llama:\n",
      "NOM : DANIEL GALLEGO | EMAIL : hello@reallygreatsite.com | Score de compatibilité : 2.0\n",
      "Réponse complète de Llama:\n",
      "NOM : CONNOR HAMILTON | EMAIL : hello@reallygreatsite.com | Score de compatibilité : 0.0\n",
      "Réponse complète de Llama:\n",
      "NOM : Kayden Zhao | EMAIL : kayden@novoresume.com | Score de compatibilité : 2.0\n",
      "Réponse complète de Llama:\n",
      "NOM : Olivia Davis | EMAIL : help@enhancv.com | Score de compatibilité : 2.0\n",
      "Réponse complète de Llama:\n",
      "NOM : Sarah Wilson | EMAIL : wilsonn_sarl547@gmail.com | Score de compatibilité : 2.0\n",
      "Réponse complète de Llama:\n",
      "NOM : Chloe O'Brian | EMAIL : chloe:obrian@example.com | Score de compatibilité : 2.0\n",
      "Réponse complète de Llama:\n",
      "NOM : Aiden Kelly | EMAIL : aiden.kelly@gmail.com | Score de compatibilité : 2.0\n",
      "Réponse complète de Llama:\n",
      "NOM : Ahmedd Saaah | EMAIL : hello@ahmedd saaahh.com | Score de compatibilité : 2.0\n",
      "Réponse complète de Llama:\n",
      "NOM : RICHARD SANCHEZ | EMAIL : hello@reallygreatsite.com | Score de compatibilité : 2.0\n",
      "Réponse complète de Llama:\n",
      "NOM : RICHARD SANCHEZ | EMAIL : hello@reallygreatsite.com | Score de compatibilité : 1.0\n",
      "Réponse complète de Llama:\n",
      "NOM : Bailey Dupont | EMAIL : hello@reallygreatsite.com | Score de compatibilité : 2.0\n",
      "Réponse complète de Llama:\n",
      "NOM : Juliana Silva | EMAIL : hello@reallygreatsite.com | Score de compatibilité : 1.0\n",
      "Réponse complète de Llama:\n",
      "NOM : Lorna Alvarado | EMAIL : hello@reallygreatsite.com | Score de compatibilité : 2.0\n",
      "Réponse complète de Llama:\n",
      "NOM : Richard Sanchez | EMAIL : hello@reallygreatsite.com | Score de compatibilité : 2.0\n",
      "Réponse complète de Llama:\n",
      "NOM : Samira Alcaraz | EMAIL : hello@reallygreatsite.com | Score de compatibilité : 2.0\n",
      "Wrote 17857 bytes.\n",
      "CSV file saved successfully at /mnt/result/candidates_scores.csv\n"
     ]
    }
   ],
   "source": [
    "offre = {\n",
    "    \"titre\": \"Ingénieur DevOps\",\n",
    "    \"compétences\": [\"Docker\", \"Kubernetes\", \"CI/CD\", \"AWS\", \"Travail en équipe\", \"Résolution de problèmes\"],\n",
    "    \"expérience_minimale\": 2,\n",
    "    \"certifications\": [\"AWS Certified Solutions Architect\"],\n",
    "    \"localisation\": \"France\",\n",
    "    \"langues\": [\"Anglais\"]\n",
    "}\n",
    "\n",
    "output_file_path = '/mnt/result/candidates_scores.csv'\n",
    "\n",
    "csv_content = io.StringIO()  \n",
    "csv_writer = csv.DictWriter(csv_content, fieldnames=[\n",
    "    \"Name\", \"Email\", \"Skills\", \"Experience\", \"Certifications\", \"Localisation\", \"Langues\", \"Score\"\n",
    "])\n",
    "\n",
    "for con in data:\n",
    "    candidat = {\n",
    "        \"name\": con.get('name', \"Unknown\"),\n",
    "        \"email\": con.get('email', \"Unknown\"),\n",
    "        \"skills\": con.get('skills', []),\n",
    "        \"experience\": con.get('experience', \"Unknown\"),\n",
    "        \"certifications\": con.get('certifications', []),\n",
    "        \"localisation\": con.get('address', None), \n",
    "        \"langues\": con.get('langues', [])\n",
    "    }\n",
    "\n",
    "    score = result_with_llama(api_key_llama, offre, candidat)\n",
    "\n",
    "    candidate_row = {\n",
    "        \"Name\": candidat[\"name\"],\n",
    "        \"Email\": candidat[\"email\"],\n",
    "        \"Skills\": ', '.join(str(item) for item in candidat[\"skills\"] if isinstance(item, (str,))) if isinstance(candidat[\"skills\"], list) else str(candidat[\"skills\"]),\n",
    "        \"Experience\": candidat[\"experience\"],\n",
    "        \"Certifications\": ', '.join(str(item) for item in candidat[\"certifications\"] if isinstance(item, (str,))) if isinstance(candidat[\"certifications\"], list) else str(candidat[\"certifications\"]),\n",
    "        \"Localisation\": candidat[\"localisation\"],\n",
    "        \"Langues\": ', '.join(str(item) for item in candidat[\"langues\"] if isinstance(item, (str,))) if isinstance(candidat[\"langues\"], list) else str(candidat[\"langues\"]),\n",
    "        \"Score\": score\n",
    "    }\n",
    "    csv_writer.writerow(candidate_row)\n",
    "    print(f\"NOM : {candidat['name']} | EMAIL : {candidat['email']} | Score de compatibilité : {score}\")\n",
    "\n",
    "\n",
    "try:\n",
    "    csv_content.seek(0) \n",
    "    dbutils.fs.put(output_file_path, csv_content.getvalue(), overwrite=True)\n",
    "    print(f\"CSV file saved successfully at {output_file_path}\")\n",
    "except Exception as e:\n",
    "    print(f\"Error saving CSV file: {e}\")\n"
   ]
  }
 ],
 "metadata": {
  "application/vnd.databricks.v1+notebook": {
   "dashboards": [],
   "environmentMetadata": {
    "base_environment": "",
    "client": "1"
   },
   "language": "python",
   "notebookMetadata": {
    "pythonIndentUnit": 4
   },
   "notebookName": "data_transformation",
   "widgets": {}
  },
  "language_info": {
   "name": "python"
  }
 },
 "nbformat": 4,
 "nbformat_minor": 0
}
