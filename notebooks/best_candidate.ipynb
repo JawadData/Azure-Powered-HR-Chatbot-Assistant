{
 "cells": [
  {
   "cell_type": "markdown",
   "metadata": {
    "application/vnd.databricks.v1+cell": {
     "cellMetadata": {},
     "inputWidgets": {},
     "nuid": "d58dc212-f49d-4224-b788-56775d965fdd",
     "showTitle": false,
     "tableResultSettingsMap": {},
     "title": ""
    }
   },
   "source": [
    "> # Candidate Scoring with LLAMA  \n",
    "***  \n",
    "In this section, we utilize the information extracted from the PDFs and stored in a JSON file to generate a score for each candidate. The scoring is based on specific features and the job offer they are applying for, allowing us to rank the candidates accordingly.  \n",
    "\n",
    "`pip install groq python-dotenv`\n",
    "\n",
    "\n"
   ]
  },
  {
   "cell_type": "markdown",
   "metadata": {
    "application/vnd.databricks.v1+cell": {
     "cellMetadata": {},
     "inputWidgets": {},
     "nuid": "afe96233-694c-4751-8d5a-07622d143998",
     "showTitle": false,
     "tableResultSettingsMap": {},
     "title": ""
    }
   },
   "source": [
    "**01.Importing the necessary libraries**\n"
   ]
  },
  {
   "cell_type": "code",
   "execution_count": 0,
   "metadata": {
    "application/vnd.databricks.v1+cell": {
     "cellMetadata": {
      "byteLimit": 2048000,
      "rowLimit": 10000
     },
     "inputWidgets": {},
     "nuid": "2ebac335-90b9-4f09-88aa-063b1b4ae12e",
     "showTitle": false,
     "tableResultSettingsMap": {},
     "title": ""
    }
   },
   "outputs": [],
   "source": [
    "import csv\n",
    "import re\n",
    "import os\n",
    "from groq import Groq\n",
    "import json\n",
    "from pprint import pprint\n",
    "from dotenv import load_dotenv\n",
    "import io\n",
    "\n"
   ]
  },
  {
   "cell_type": "markdown",
   "metadata": {
    "application/vnd.databricks.v1+cell": {
     "cellMetadata": {},
     "inputWidgets": {},
     "nuid": "6e3a100d-3f05-48bd-8ba6-9b4032a4f8fc",
     "showTitle": false,
     "tableResultSettingsMap": {},
     "title": ""
    }
   },
   "source": [
    "**02. Load the JSON file that has already been created**"
   ]
  },
  {
   "cell_type": "code",
   "execution_count": 0,
   "metadata": {
    "application/vnd.databricks.v1+cell": {
     "cellMetadata": {
      "byteLimit": 2048000,
      "rowLimit": 10000
     },
     "inputWidgets": {},
     "nuid": "5c3282c3-6d64-4158-bbf6-7acfffaf4515",
     "showTitle": false,
     "tableResultSettingsMap": {},
     "title": ""
    }
   },
   "outputs": [],
   "source": [
    "file_path = ''\n",
    "with open(file_path, 'r') as file:\n",
    "    data = json.load(file)  \n",
    "pprint(data[1:4])"
   ]
  },
  {
   "cell_type": "markdown",
   "metadata": {
    "application/vnd.databricks.v1+cell": {
     "cellMetadata": {},
     "inputWidgets": {},
     "nuid": "d12386af-1518-4108-820f-72b66f5881bd",
     "showTitle": false,
     "tableResultSettingsMap": {},
     "title": ""
    }
   },
   "source": [
    "**03. Function to generate the dedicated score for each candidate, structure the results into a CSV file, and store it in Azure Data Lake Gen2**  \n"
   ]
  },
  {
   "cell_type": "code",
   "execution_count": 0,
   "metadata": {
    "application/vnd.databricks.v1+cell": {
     "cellMetadata": {
      "byteLimit": 2048000,
      "rowLimit": 10000
     },
     "inputWidgets": {},
     "nuid": "136fcbc9-4390-4c7c-8403-1eb37f3f4769",
     "showTitle": false,
     "tableResultSettingsMap": {},
     "title": ""
    }
   },
   "outputs": [],
   "source": [
    "def extract_score(full_output):\n",
    "   \n",
    "    match = re.search(r\"\\b\\d+(\\.\\d+)?\\b\", full_output)\n",
    "    if match:\n",
    "        return float(match.group(0))\n",
    "    else:\n",
    "        print(\"Score non trouvé dans la réponse.\")\n",
    "        return None\n"
   ]
  },
  {
   "cell_type": "code",
   "execution_count": 0,
   "metadata": {
    "application/vnd.databricks.v1+cell": {
     "cellMetadata": {
      "byteLimit": 2048000,
      "rowLimit": 10000
     },
     "inputWidgets": {},
     "nuid": "972ee173-3a90-4328-96c1-89a4a7fc237c",
     "showTitle": false,
     "tableResultSettingsMap": {},
     "title": ""
    }
   },
   "outputs": [],
   "source": [
    "def result_with_llama(api_k, offre, candidat):\n",
    "  \n",
    "    client = Groq(api_key=api_k)\n",
    "\n",
    "    prompt = f\"\"\"\n",
    "    Tu es un expert en ressources humaines. J'ai une offre d'emploi et un profil de candidat. \n",
    "    Tu dois évaluer le score de compatibilité entre le candidat et l'offre en te basant sur les critères suivants :\n",
    "\n",
    "    - Compétences : Compare les compétences du candidat avec celles requises par l'offre. Donne plus de poids aux compétences essentielles.\n",
    "    - Expérience : Vérifie si le candidat a l'expérience minimale requise pour le poste.\n",
    "    - Certifications : Assure-toi que les certifications du candidat correspondent à celles demandées dans l'offre.\n",
    "    - Localisation : Évalue si la localisation du candidat est compatible avec le lieu de travail indiqué.\n",
    "    - Langues : Vérifie si le candidat parle les langues requises dans l'offre.\n",
    "\n",
    "    Utilise un score de 0 à 10, où 0 signifie que le candidat n'est pas du tout compatible et 10 signifie qu'il est parfaitement compatible avec l'offre. \n",
    "    Ne donne pas d'explication, seulement un score.\n",
    "\n",
    "    Offre d'emploi : \n",
    "    {json.dumps(offre, ensure_ascii=False, indent=2)}\n",
    "\n",
    "    Profil du candidat :\n",
    "    {json.dumps(candidat, ensure_ascii=False, indent=2)}\n",
    "    \"\"\"\n",
    "    completion = client.chat.completions.create(\n",
    "        model=\"llama3-70b-8192\",\n",
    "        messages=[\n",
    "            {\n",
    "                \"role\": \"user\",\n",
    "                \"content\": prompt\n",
    "            },\n",
    "            {\n",
    "                \"role\": \"assistant\",\n",
    "                \"content\": \"\"\n",
    "            }\n",
    "        ],\n",
    "        temperature=1,\n",
    "        max_tokens=1024,\n",
    "        top_p=1,\n",
    "        stream=True,\n",
    "        stop=None,\n",
    "    )\n",
    "  \n",
    "    full_output = \"\"\n",
    "    for chunk in completion:\n",
    "        output = chunk.choices[0].delta.content or \"\"\n",
    "        full_output += output\n",
    "\n",
    "    print(\"Réponse complète de Llama:\")\n",
    "    score = extract_score(full_output)\n",
    "\n",
    "    return score\n"
   ]
  },
  {
   "cell_type": "code",
   "execution_count": 0,
   "metadata": {
    "application/vnd.databricks.v1+cell": {
     "cellMetadata": {
      "byteLimit": 2048000,
      "rowLimit": 10000
     },
     "inputWidgets": {},
     "nuid": "10f805b9-8398-4cfb-b17b-69e27f49fb0a",
     "showTitle": false,
     "tableResultSettingsMap": {},
     "title": ""
    }
   },
   "outputs": [],
   "source": [
    "load_dotenv()\n",
    "api_key_llama = os.getenv(\"API_KEY_LLAMA\")"
   ]
  },
  {
   "cell_type": "code",
   "execution_count": 0,
   "metadata": {
    "application/vnd.databricks.v1+cell": {
     "cellMetadata": {
      "byteLimit": 2048000,
      "rowLimit": 10000
     },
     "inputWidgets": {},
     "nuid": "8d37c331-87c6-42e5-aa2a-b4aabf5806ab",
     "showTitle": false,
     "tableResultSettingsMap": {},
     "title": ""
    }
   },
   "outputs": [],
   "source": [
    "offre = {\n",
    "    \"titre\": \"Ingénieur DevOps\",\n",
    "    \"compétences\": [\"Docker\", \"Kubernetes\", \"CI/CD\", \"AWS\", \"Travail en équipe\", \"Résolution de problèmes\"],\n",
    "    \"expérience_minimale\": 2,\n",
    "    \"certifications\": [\"AWS Certified Solutions Architect\"],\n",
    "    \"localisation\": \"France\",\n",
    "    \"langues\": [\"Anglais\"]\n",
    "}\n",
    "\n",
    "output_file_path = '/mnt/result/candidates_scores.csv'\n",
    "\n",
    "csv_content = io.StringIO()  \n",
    "csv_writer = csv.DictWriter(csv_content, fieldnames=[\n",
    "    \"Name\", \"Email\", \"Skills\", \"Experience\", \"Certifications\", \"Localisation\", \"Langues\", \"Score\"\n",
    "])\n",
    "\n",
    "for con in data:\n",
    "    candidat = {\n",
    "        \"name\": con.get('name', \"Unknown\"),\n",
    "        \"email\": con.get('email', \"Unknown\"),\n",
    "        \"skills\": con.get('skills', []),\n",
    "        \"experience\": con.get('experience', \"Unknown\"),\n",
    "        \"certifications\": con.get('certifications', []),\n",
    "        \"localisation\": con.get('address', None), \n",
    "        \"langues\": con.get('langues', [])\n",
    "    }\n",
    "\n",
    "    score = result_with_llama(api_key_llama, offre, candidat)\n",
    "\n",
    "    candidate_row = {\n",
    "        \"Name\": candidat[\"name\"],\n",
    "        \"Email\": candidat[\"email\"],\n",
    "        \"Skills\": ', '.join(str(item) for item in candidat[\"skills\"] if isinstance(item, (str,))) if isinstance(candidat[\"skills\"], list) else str(candidat[\"skills\"]),\n",
    "        \"Experience\": candidat[\"experience\"],\n",
    "        \"Certifications\": ', '.join(str(item) for item in candidat[\"certifications\"] if isinstance(item, (str,))) if isinstance(candidat[\"certifications\"], list) else str(candidat[\"certifications\"]),\n",
    "        \"Localisation\": candidat[\"localisation\"],\n",
    "        \"Langues\": ', '.join(str(item) for item in candidat[\"langues\"] if isinstance(item, (str,))) if isinstance(candidat[\"langues\"], list) else str(candidat[\"langues\"]),\n",
    "        \"Score\": score\n",
    "    }\n",
    "    csv_writer.writerow(candidate_row)\n",
    "    print(f\"NOM : {candidat['name']} | EMAIL : {candidat['email']} | Score de compatibilité : {score}\")\n",
    "\n",
    "\n",
    "try:\n",
    "    csv_content.seek(0) \n",
    "    dbutils.fs.put(output_file_path, csv_content.getvalue(), overwrite=True)\n",
    "    print(f\"CSV file saved successfully at {output_file_path}\")\n",
    "except Exception as e:\n",
    "    print(f\"Error saving CSV file: {e}\")\n"
   ]
  }
 ],
 "metadata": {
  "application/vnd.databricks.v1+notebook": {
   "dashboards": [],
   "environmentMetadata": {
    "base_environment": "",
    "client": "1"
   },
   "language": "python",
   "notebookMetadata": {
    "pythonIndentUnit": 4
   },
   "notebookName": "data_transformation",
   "widgets": {}
  },
  "language_info": {
   "name": "python"
  }
 },
 "nbformat": 4,
 "nbformat_minor": 0
}
