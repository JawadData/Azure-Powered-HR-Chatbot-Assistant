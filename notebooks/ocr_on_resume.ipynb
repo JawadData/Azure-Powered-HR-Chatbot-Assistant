{
 "cells": [
  {
   "cell_type": "markdown",
   "metadata": {
    "application/vnd.databricks.v1+cell": {
     "cellMetadata": {
      "byteLimit": 2048000,
      "rowLimit": 10000
     },
     "inputWidgets": {},
     "nuid": "23d42d64-28b9-447c-8836-a75a87ccbfb5",
     "showTitle": false,
     "tableResultSettingsMap": {},
     "title": ""
    }
   },
   "source": [
    "> # Extracting Text from PDF \n",
    "***\n",
    "In this section we will be extracting a bunch of informations from the resumes stored in the Azure Data Lake Gen2.\n",
    "Than structure the data into a csv file and store it back in a container in Azure Data Lake Gen2.\n",
    "The Dependencies needed for this notebook :\n",
    "- **`azure-ai-documentintelligence==1.0.0b4`**\n",
    "- **`azure-storage-blob`**\n",
    "- **`azure-ai-formrecognizer`**\n",
    "- **`groq`**\n"
   ]
  },
  {
   "cell_type": "markdown",
   "metadata": {
    "application/vnd.databricks.v1+cell": {
     "cellMetadata": {},
     "inputWidgets": {},
     "nuid": "4f09a533-54f0-4eb4-9b88-6776b28efb9b",
     "showTitle": false,
     "tableResultSettingsMap": {},
     "title": ""
    }
   },
   "source": [
    "**01. Mounting the Containers from Azure Data Lake Gen2**"
   ]
  },
  {
   "cell_type": "code",
   "execution_count": 0,
   "metadata": {
    "application/vnd.databricks.v1+cell": {
     "cellMetadata": {
      "byteLimit": 2048000,
      "rowLimit": 10000
     },
     "inputWidgets": {},
     "nuid": "a8269203-7ccf-439b-82cd-0874e691ec2d",
     "showTitle": false,
     "tableResultSettingsMap": {},
     "title": ""
    }
   },
   "outputs": [],
   "source": [
    "dbutils.fs.mount(\n",
    "    source='',\n",
    "    mount_point='',\n",
    "    extra_configs={'': dbutils.secrets.get('keyvaultScope', 'DataLakeSecretKey')}\n",
    ")\n",
    "dbutils.fs.mount(\n",
    "    source='',\n",
    "    mount_point='',\n",
    "    extra_configs={'': dbutils.secrets.get('keyvaultScope', 'DataLakeSecretKey')}\n",
    ")"
   ]
  },
  {
   "cell_type": "markdown",
   "metadata": {
    "application/vnd.databricks.v1+cell": {
     "cellMetadata": {},
     "inputWidgets": {},
     "nuid": "7aca74e0-79a2-4f33-b160-e496d619431c",
     "showTitle": false,
     "tableResultSettingsMap": {},
     "title": ""
    }
   },
   "source": [
    "**02. Importing the necessary libraries**"
   ]
  },
  {
   "cell_type": "code",
   "execution_count": 0,
   "metadata": {
    "application/vnd.databricks.v1+cell": {
     "cellMetadata": {
      "byteLimit": 2048000,
      "rowLimit": 10000
     },
     "inputWidgets": {},
     "nuid": "a6f5e714-6ff9-4ad6-9971-c3bf882765b3",
     "showTitle": false,
     "tableResultSettingsMap": {},
     "title": ""
    }
   },
   "outputs": [],
   "source": [
    "from azure.core.credentials import AzureKeyCredential\n",
    "from azure.ai.formrecognizer import DocumentAnalysisClient\n",
    "from azure.storage.blob import BlobServiceClient\n",
    "\n",
    "from groq import Groq\n",
    "\n",
    "from dotenv import load_dotenv\n",
    "import json\n",
    "import re\n",
    "import os\n",
    "\n",
    "load_dotenv()"
   ]
  },
  {
   "cell_type": "markdown",
   "metadata": {
    "application/vnd.databricks.v1+cell": {
     "cellMetadata": {},
     "inputWidgets": {},
     "nuid": "76eb582a-88bc-4421-9223-2efcffcca869",
     "showTitle": false,
     "tableResultSettingsMap": {},
     "title": ""
    }
   },
   "source": [
    "**03. Import the Secret Keys from the `.env` file**"
   ]
  },
  {
   "cell_type": "code",
   "execution_count": 0,
   "metadata": {
    "application/vnd.databricks.v1+cell": {
     "cellMetadata": {
      "byteLimit": 2048000,
      "rowLimit": 10000
     },
     "inputWidgets": {},
     "nuid": "8ae694a3-a57a-4359-a35b-b94e17aa9f4a",
     "showTitle": false,
     "tableResultSettingsMap": {},
     "title": ""
    }
   },
   "outputs": [],
   "source": [
    "DI_ENDPOINT = os.getenv(\"DI_ENDPOINT\")\n",
    "DI_KEY = os.getenv(\"DI_KEY\") \n",
    "API_KEY = os.getenv(\"API_KEY\")  "
   ]
  },
  {
   "cell_type": "markdown",
   "metadata": {
    "application/vnd.databricks.v1+cell": {
     "cellMetadata": {},
     "inputWidgets": {},
     "nuid": "0f74e7a6-203d-492f-bb75-cef22756e2ab",
     "showTitle": false,
     "tableResultSettingsMap": {},
     "title": ""
    }
   },
   "source": [
    "**04. Optical Character Recognition OCR operation on the resumes**\n"
   ]
  },
  {
   "cell_type": "code",
   "execution_count": 0,
   "metadata": {
    "application/vnd.databricks.v1+cell": {
     "cellMetadata": {
      "byteLimit": 2048000,
      "rowLimit": 10000
     },
     "inputWidgets": {},
     "nuid": "3d18da67-8bd6-47e7-a08e-aeb7dd767a23",
     "showTitle": false,
     "tableResultSettingsMap": {},
     "title": ""
    }
   },
   "outputs": [],
   "source": [
    "def resume_ocr(file_path,endpoint,key):\n",
    "\n",
    "\n",
    "    document_analysis_client = DocumentAnalysisClient(\n",
    "        endpoint=endpoint, credential=AzureKeyCredential(key)\n",
    "    )\n",
    "    with open(file_path, \"rb\") as document:  \n",
    "        poller = document_analysis_client.begin_analyze_document(\"prebuilt-document\", document)\n",
    "        result = poller.result()\n",
    "\n",
    "    document_content = result.content\n",
    "    return document_content"
   ]
  },
  {
   "cell_type": "markdown",
   "metadata": {
    "application/vnd.databricks.v1+cell": {
     "cellMetadata": {},
     "inputWidgets": {},
     "nuid": "56a595d2-52e3-48db-bf86-831d9a0757ac",
     "showTitle": false,
     "tableResultSettingsMap": {},
     "title": ""
    }
   },
   "source": [
    "**05. Extracting the needed informations from the text**"
   ]
  },
  {
   "cell_type": "code",
   "execution_count": 0,
   "metadata": {
    "application/vnd.databricks.v1+cell": {
     "cellMetadata": {
      "byteLimit": 2048000,
      "rowLimit": 10000
     },
     "inputWidgets": {},
     "nuid": "c49f1a6d-25a4-4c40-94b8-3150a1663cfe",
     "showTitle": false,
     "tableResultSettingsMap": {},
     "title": ""
    }
   },
   "outputs": [],
   "source": [
    "def extract_information(API_KEY,text:str):\n",
    "\n",
    "\n",
    "    client = Groq(api_key=API_KEY)\n",
    "    completion = client.chat.completions.create(\n",
    "    model=\"llama3-70b-8192\",\n",
    "    messages=[\n",
    "        {\n",
    "            \"role\": \"user\",\n",
    "            \"content\": f\"\"\"\n",
    "                Extract the following information in a JSON format from this resume:\n",
    "                {text}\n",
    "                Information to extract: name, position, email, phone, address, linkedin, summary, skills, education, experience, projects, certifications, languages. \n",
    "                If any of these information are not found, replace them with None\n",
    "                        \"\"\"\n",
    "       },\n",
    "        {\n",
    "            \"role\": \"assistant\",\n",
    "            \"content\": \"\"\n",
    "        }\n",
    "    ],\n",
    "        temperature=1,\n",
    "        max_tokens=1024,\n",
    "        top_p=1,\n",
    "        stream=True,\n",
    "        stop=None,\n",
    "    )\n",
    "    \n",
    "    full_output = \"\"\n",
    "    for chunk in completion:\n",
    "        output = chunk.choices[0].delta.content or \"\"\n",
    "        full_output += output\n",
    "\n",
    "    start_index = full_output.find(\"{\")\n",
    "    end_index = full_output.rfind(\"}\") + 1\n",
    "    json_string = full_output[start_index:end_index]\n",
    "\n",
    "    data = json.loads(json_string.replace(\"None\", \"null\"))\n",
    "\n",
    "    return data\n"
   ]
  },
  {
   "cell_type": "markdown",
   "metadata": {
    "application/vnd.databricks.v1+cell": {
     "cellMetadata": {},
     "inputWidgets": {},
     "nuid": "1943fabb-e87f-4052-ab8b-31e250faf772",
     "showTitle": false,
     "tableResultSettingsMap": {},
     "title": ""
    }
   },
   "source": [
    "**06. Applying the functions on the existing pdf resumes in the container `resumecontainer` in Gen 2**"
   ]
  },
  {
   "cell_type": "code",
   "execution_count": 0,
   "metadata": {
    "application/vnd.databricks.v1+cell": {
     "cellMetadata": {
      "byteLimit": 2048000,
      "rowLimit": 10000
     },
     "inputWidgets": {},
     "nuid": "3b3199d3-f2a1-447e-9afd-317de650c022",
     "showTitle": false,
     "tableResultSettingsMap": {},
     "title": ""
    }
   },
   "outputs": [],
   "source": [
    "resumes = []\n",
    "for file_info in dbutils.fs.ls(''):\n",
    "\n",
    "    file_path = f\"/dbfs{file_info.path.replace('dbfs:/', '/')}\"\n",
    "\n",
    "    try:\n",
    "        print(f\"Processing file: {file_info.name}\")\n",
    "        ocr_result = resume_ocr(file_path, DI_ENDPOINT, DI_KEY)\n",
    "        resume = extract_information(API_KEY,ocr_result)\n",
    "        resumes.append(resume)\n",
    "    except Exception as e:\n",
    "        print(f\"Error processing {file_info.name}: {e}\")\n"
   ]
  },
  {
   "cell_type": "markdown",
   "metadata": {
    "application/vnd.databricks.v1+cell": {
     "cellMetadata": {},
     "inputWidgets": {},
     "nuid": "397e2541-bb2d-48b7-8c70-a7b9c0fd233d",
     "showTitle": false,
     "tableResultSettingsMap": {},
     "title": ""
    }
   },
   "source": [
    "**07. Save the json file that has the clean data into `ocr-data-container` container in Gen2**"
   ]
  },
  {
   "cell_type": "code",
   "execution_count": 0,
   "metadata": {
    "application/vnd.databricks.v1+cell": {
     "cellMetadata": {
      "byteLimit": 2048000,
      "rowLimit": 10000
     },
     "inputWidgets": {},
     "nuid": "cca102ce-9a51-47ce-a068-089472a1ad65",
     "showTitle": false,
     "tableResultSettingsMap": {},
     "title": ""
    }
   },
   "outputs": [],
   "source": [
    "output_file_path = \"\"\n",
    "try:\n",
    "    with open(output_file_path, \"w\") as json_file:\n",
    "        json.dump(resumes, json_file, indent=4)\n",
    "    print(f\"Resumes saved to {output_file_path}\")\n",
    "except Exception as e:\n",
    "    print(f\"Error saving JSON file: {e}\")"
   ]
  }
 ],
 "metadata": {
  "application/vnd.databricks.v1+notebook": {
   "dashboards": [],
   "environmentMetadata": {
    "base_environment": "",
    "client": "1"
   },
   "language": "python",
   "notebookMetadata": {
    "pythonIndentUnit": 4
   },
   "notebookName": "OCR_RESUME.ipynb",
   "widgets": {}
  },
  "language_info": {
   "name": "python"
  }
 },
 "nbformat": 4,
 "nbformat_minor": 0
}
