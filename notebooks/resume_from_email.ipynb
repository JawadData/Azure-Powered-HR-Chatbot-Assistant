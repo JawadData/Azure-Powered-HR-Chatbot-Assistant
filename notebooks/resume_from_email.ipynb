{
 "cells": [
  {
   "cell_type": "markdown",
   "metadata": {
    "application/vnd.databricks.v1+cell": {
     "cellMetadata": {},
     "inputWidgets": {},
     "nuid": "8c1ae538-5183-4d20-89a4-266eaa7e2ca7",
     "showTitle": false,
     "tableResultSettingsMap": {},
     "title": ""
    }
   },
   "source": [
    "> # Downloading Resumes from Emails into `Azure Data Lake Gen 2`\n",
    "***\n",
    "In this section we will be extracting a bunch of resumes from emails and then store the cvs in the Azure Data Lake Gen2.\n",
    "\n",
    "The Dependencies needed for this notebook :\n",
    "- **`google-auth-oauthlib`**\n",
    "- **`google-api-python-client`**\n"
   ]
  },
  {
   "cell_type": "code",
   "execution_count": null,
   "metadata": {
    "application/vnd.databricks.v1+cell": {
     "cellMetadata": {},
     "inputWidgets": {},
     "nuid": "1c7dd901-60e6-4cae-a21f-1f1895da363e",
     "showTitle": false,
     "tableResultSettingsMap": {},
     "title": ""
    }
   },
   "outputs": [],
   "source": [
    "from google_auth_oauthlib.flow import InstalledAppFlow\n",
    "from azure.storage.blob import BlobServiceClient\n",
    "from googleapiclient.discovery import build\n",
    "import base64\n",
    "import os"
   ]
  },
  {
   "cell_type": "code",
   "execution_count": null,
   "metadata": {},
   "outputs": [],
   "source": [
    "Azure_Gen2_conn_string=\"DefaultEndpointsProtocol=https;AccountName=llmproject;AccountKey=yxt5q11co9INq2ULCmCJCh9fvAV7vjipaB6NviW2fFMPLL7OqLaCh7suRFz61OBBnJ0T5KtThdkU+AStjOz5Pw==;EndpointSuffix=core.windows.net\""
   ]
  },
  {
   "cell_type": "code",
   "execution_count": null,
   "metadata": {
    "application/vnd.databricks.v1+cell": {
     "cellMetadata": {},
     "inputWidgets": {},
     "nuid": "037212b0-71e7-4066-a0dd-c05632329831",
     "showTitle": false,
     "tableResultSettingsMap": {},
     "title": ""
    }
   },
   "outputs": [],
   "source": [
    "def extract_mails_with_cv():\n",
    "    SCOPES = ['https://www.googleapis.com/auth/gmail.readonly']\n",
    "\n",
    "    flow = InstalledAppFlow.from_client_secrets_file('credentials.json', SCOPES)\n",
    "    creds = flow.run_local_server(port=8080)  \n",
    "    \n",
    "    service = build('gmail', 'v1', credentials=creds)\n",
    "\n",
    "    query = 'subject:stage_2025'\n",
    "    results = service.users().messages().list(userId='me', q=query).execute()\n",
    "    messages = results.get('messages', [])\n",
    "    \n",
    "    if not messages:\n",
    "        print(\"No emails found with 'stage_2025' in the subject.\")\n",
    "        return\n",
    "    \n",
    "    print(f\"{len(messages)} email(s) found with 'stage_2025' in the subject.\")\n",
    "\n",
    "    container_name = \"resumecontainner\"\n",
    "    folder_name = \"raw-data\" \n",
    "\n",
    "    blob_service_client = BlobServiceClient.from_connection_string(Azure_Gen2_conn_string)\n",
    "    container_client = blob_service_client.get_container_client(container_name)\n",
    "    \n",
    "    for msg in messages:\n",
    "        msg_id = msg['id']\n",
    "        message = service.users().messages().get(userId='me', id=msg_id).execute()\n",
    "\n",
    "        payload = message.get('payload', {})\n",
    "        parts = payload.get('parts', [])\n",
    "   \n",
    "        for part in parts:\n",
    "\n",
    "            if part.get('filename'):  \n",
    "                attachment_id = part.get('body', {}).get('attachmentId')\n",
    "                if attachment_id:\n",
    "                    attachment = service.users().messages().attachments().get(\n",
    "                        userId='me', messageId=msg_id, id=attachment_id).execute()\n",
    "\n",
    "                    file_data = base64.urlsafe_b64decode(attachment['data'].encode('UTF-8'))\n",
    "\n",
    "                    if part['filename'].endswith('.pdf'):\n",
    "\n",
    "                        azure_blob_name = f\"{folder_name}/{part['filename']}\"\n",
    "                        blob_client = container_client.get_blob_client(azure_blob_name)\n",
    "\n",
    "                        blob_client.upload_blob(file_data, overwrite=True)\n",
    "                        print(f\"CV uploaded and saved in Azure Blob: {azure_blob_name}\")\n",
    "                    else:\n",
    "                        print(f\"File ignored (not a PDF): {part['filename']}\")\n"
   ]
  },
  {
   "cell_type": "code",
   "execution_count": 42,
   "metadata": {
    "application/vnd.databricks.v1+cell": {
     "cellMetadata": {},
     "inputWidgets": {},
     "nuid": "becc1956-a17b-4c3e-a584-8d8c812df4b7",
     "showTitle": false,
     "tableResultSettingsMap": {},
     "title": ""
    }
   },
   "outputs": [
    {
     "name": "stdout",
     "output_type": "stream",
     "text": [
      "Please visit this URL to authorize this application: https://accounts.google.com/o/oauth2/auth?response_type=code&client_id=603947513417-ggtrnriti8eo087inn46vjqjciaotilp.apps.googleusercontent.com&redirect_uri=http%3A%2F%2Flocalhost%3A8085%2F&scope=https%3A%2F%2Fwww.googleapis.com%2Fauth%2Fgmail.readonly&state=p7V35QE4pq9TjcSb1P2v01uMlisFg9&access_type=offline\n",
      "2 email(s) found with 'stage_2025' in the subject.\n"
     ]
    },
    {
     "ename": "NameError",
     "evalue": "name 'BlobServiceClient' is not defined",
     "output_type": "error",
     "traceback": [
      "\u001b[0;31m---------------------------------------------------------------------------\u001b[0m",
      "\u001b[0;31mNameError\u001b[0m                                 Traceback (most recent call last)",
      "Cell \u001b[0;32mIn[42], line 2\u001b[0m\n\u001b[1;32m      1\u001b[0m \u001b[38;5;28;01mif\u001b[39;00m \u001b[38;5;18m__name__\u001b[39m \u001b[38;5;241m==\u001b[39m \u001b[38;5;124m\"\u001b[39m\u001b[38;5;124m__main__\u001b[39m\u001b[38;5;124m\"\u001b[39m:\n\u001b[0;32m----> 2\u001b[0m     \u001b[43mextract_mails_with_cv\u001b[49m\u001b[43m(\u001b[49m\u001b[43m)\u001b[49m\n",
      "Cell \u001b[0;32mIn[41], line 22\u001b[0m, in \u001b[0;36mextract_mails_with_cv\u001b[0;34m()\u001b[0m\n\u001b[1;32m     19\u001b[0m container_name \u001b[38;5;241m=\u001b[39m \u001b[38;5;124m\"\u001b[39m\u001b[38;5;124mresumecontainner\u001b[39m\u001b[38;5;124m\"\u001b[39m\n\u001b[1;32m     20\u001b[0m folder_name \u001b[38;5;241m=\u001b[39m \u001b[38;5;124m\"\u001b[39m\u001b[38;5;124mraw-data\u001b[39m\u001b[38;5;124m\"\u001b[39m \n\u001b[0;32m---> 22\u001b[0m blob_service_client \u001b[38;5;241m=\u001b[39m \u001b[43mBlobServiceClient\u001b[49m\u001b[38;5;241m.\u001b[39mfrom_connection_string(Azure_Gen2_conn_string)\n\u001b[1;32m     23\u001b[0m container_client \u001b[38;5;241m=\u001b[39m blob_service_client\u001b[38;5;241m.\u001b[39mget_container_client(container_name)\n\u001b[1;32m     25\u001b[0m \u001b[38;5;28;01mfor\u001b[39;00m msg \u001b[38;5;129;01min\u001b[39;00m messages:\n",
      "\u001b[0;31mNameError\u001b[0m: name 'BlobServiceClient' is not defined"
     ]
    }
   ],
   "source": [
    "\n",
    "if __name__ == \"__main__\":\n",
    "    extract_mails_with_cv()"
   ]
  },
  {
   "cell_type": "code",
   "execution_count": null,
   "metadata": {},
   "outputs": [],
   "source": []
  }
 ],
 "metadata": {
  "application/vnd.databricks.v1+notebook": {
   "dashboards": [],
   "environmentMetadata": {
    "base_environment": "",
    "client": "1"
   },
   "language": "python",
   "notebookMetadata": {
    "pythonIndentUnit": 4
   },
   "notebookName": "resume_from_email.ipynb",
   "widgets": {}
  },
  "kernelspec": {
   "display_name": ".venv",
   "language": "python",
   "name": "python3"
  },
  "language_info": {
   "codemirror_mode": {
    "name": "ipython",
    "version": 3
   },
   "file_extension": ".py",
   "mimetype": "text/x-python",
   "name": "python",
   "nbconvert_exporter": "python",
   "pygments_lexer": "ipython3",
   "version": "3.12.2"
  }
 },
 "nbformat": 4,
 "nbformat_minor": 0
}
