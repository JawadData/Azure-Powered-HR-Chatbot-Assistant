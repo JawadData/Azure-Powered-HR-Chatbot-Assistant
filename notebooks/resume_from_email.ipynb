{
 "cells": [
  {
   "cell_type": "markdown",
   "metadata": {
    "application/vnd.databricks.v1+cell": {
     "cellMetadata": {},
     "inputWidgets": {},
     "nuid": "8c1ae538-5183-4d20-89a4-266eaa7e2ca7",
     "showTitle": false,
     "tableResultSettingsMap": {},
     "title": ""
    }
   },
   "source": [
    "> # Downloading Resumes from Emails into `Azure Data Lake Gen 2`\n",
    "***\n",
    "In this section we will be extracting a bunch of resumes from emails and then store the cvs in the Azure Data Lake Gen2.\n",
    "\n",
    "The Dependencies needed for this notebook :\n",
    "- **`google-auth-oauthlib`**\n",
    "- **`google-api-python-client`**\n"
   ]
  },
  {
   "cell_type": "code",
   "execution_count": null,
   "metadata": {
    "application/vnd.databricks.v1+cell": {
     "cellMetadata": {},
     "inputWidgets": {},
     "nuid": "1c7dd901-60e6-4cae-a21f-1f1895da363e",
     "showTitle": false,
     "tableResultSettingsMap": {},
     "title": ""
    }
   },
   "outputs": [],
   "source": [
    "from google_auth_oauthlib.flow import InstalledAppFlow\n",
    "from azure.storage.blob import BlobServiceClient\n",
    "from googleapiclient.discovery import build\n",
    "import base64\n",
    "import os"
   ]
  },
  {
   "cell_type": "code",
   "execution_count": null,
   "metadata": {},
   "outputs": [],
   "source": [
    "Azure_Gen2_conn_string=\"votre connecting string\""
   ]
  },
  {
   "cell_type": "code",
   "execution_count": null,
   "metadata": {
    "application/vnd.databricks.v1+cell": {
     "cellMetadata": {},
     "inputWidgets": {},
     "nuid": "037212b0-71e7-4066-a0dd-c05632329831",
     "showTitle": false,
     "tableResultSettingsMap": {},
     "title": ""
    }
   },
   "outputs": [],
   "source": [
    "def extract_mails_with_cv():\n",
    "    SCOPES = \"votre scope\"\n",
    "\n",
    "    flow = InstalledAppFlow.from_client_secrets_file('credentials.json', SCOPES) \"a changer par votre fichier credentials\"\n",
    "    creds = flow.run_local_server(port=8080)   \n",
    "    \n",
    "    service = build('gmail', 'v1', credentials=creds)\n",
    "\n",
    "    query = 'subject:stage_2025'\n",
    "    results = service.users().messages().list(userId='me', q=query).execute()\n",
    "    messages = results.get('messages', [])\n",
    "    \n",
    "    if not messages:\n",
    "        print(\"No emails found with 'stage_2025' in the subject.\")\n",
    "        return\n",
    "    \n",
    "    print(f\"{len(messages)} email(s) found with 'stage_2025' in the subject.\")\n",
    "\n",
    "    container_name = \"resumecontainner\"\n",
    "    folder_name = \"raw-data\" \n",
    "\n",
    "    blob_service_client = BlobServiceClient.from_connection_string(Azure_Gen2_conn_string)\n",
    "    container_client = blob_service_client.get_container_client(container_name)\n",
    "    \n",
    "    for msg in messages:\n",
    "        msg_id = msg['id']\n",
    "        message = service.users().messages().get(userId='me', id=msg_id).execute()\n",
    "\n",
    "        payload = message.get('payload', {})\n",
    "        parts = payload.get('parts', [])\n",
    "   \n",
    "        for part in parts:\n",
    "\n",
    "            if part.get('filename'):  \n",
    "                attachment_id = part.get('body', {}).get('attachmentId')\n",
    "                if attachment_id:\n",
    "                    attachment = service.users().messages().attachments().get(\n",
    "                        userId='me', messageId=msg_id, id=attachment_id).execute()\n",
    "\n",
    "                    file_data = base64.urlsafe_b64decode(attachment['data'].encode('UTF-8'))\n",
    "\n",
    "                    if part['filename'].endswith('.pdf'):\n",
    "\n",
    "                        azure_blob_name = f\"{folder_name}/{part['filename']}\"\n",
    "                        blob_client = container_client.get_blob_client(azure_blob_name)\n",
    "\n",
    "                        blob_client.upload_blob(file_data, overwrite=True)\n",
    "                        print(f\"CV uploaded and saved in Azure Blob: {azure_blob_name}\")\n",
    "                    else:\n",
    "                        print(f\"File ignored (not a PDF): {part['filename']}\")\n"
   ]
  },
  {
   "cell_type": "code",
   "execution_count": null,
   "metadata": {},
   "outputs": [],
   "source": [
    "\n",
    "if __name__ == \"__main__\":\n",
    "    extract_mails_with_cv()"
   ]
  }
 ],
 "metadata": {
  "application/vnd.databricks.v1+notebook": {
   "dashboards": [],
   "environmentMetadata": {
    "base_environment": "",
    "client": "1"
   },
   "language": "python",
   "notebookMetadata": {
    "pythonIndentUnit": 4
   },
   "notebookName": "resume_from_email.ipynb",
   "widgets": {}
  },
  "kernelspec": {
   "display_name": ".venv",
   "language": "python",
   "name": "python3"
  },
  "language_info": {
   "codemirror_mode": {
    "name": "ipython",
    "version": 3
   },
   "file_extension": ".py",
   "mimetype": "text/x-python",
   "name": "python",
   "nbconvert_exporter": "python",
   "pygments_lexer": "ipython3",
   "version": "3.12.2"
  }
 },
 "nbformat": 4,
 "nbformat_minor": 0
}
